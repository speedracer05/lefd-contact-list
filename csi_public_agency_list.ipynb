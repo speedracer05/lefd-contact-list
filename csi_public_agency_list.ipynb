{
 "cells": [
  {
   "cell_type": "markdown",
   "id": "24e0f5ed",
   "metadata": {},
   "source": [
    "# Geocoding and Mapping of Fire and Police Departments: Colorado Focus\n",
    "\n",
    "- Import and clean data from multiple sources.\n",
    "- Merge datasets based on the common `agency_name` column to consolidate information.\n",
    "- Identify and fill in missing data from the primary dataset using supplementary data sources.\n",
    "- Geocode addresses to obtain latitude and longitude coordinates.\n",
    "- Export the cleaned, organized, and geocoded data to CSV files for further analysis and reporting."
   ]
  },
  {
   "cell_type": "code",
   "execution_count": null,
   "id": "REDACTED",
   "metadata": {},
   "outputs": [],
   "source": [
    "# Install required libraries with conda\n",
    "# !conda install -y pandas geopy folium -c conda-forge"
   ]
  },
  {
   "cell_type": "code",
   "execution_count": null,
   "id": "369d6011",
   "metadata": {},
   "outputs": [],
   "source": [
    "# Dependencies and Setup\n",
    "import pandas as pd\n",
    "from geopy.geocoders import GoogleV3\n",
    "from geopy.distance import geodesic\n",
    "import folium\n",
    "from folium import plugins\n",
    "from dotenv import load_dotenv\n",
    "import os\n",
    "\n",
    "load_dotenv()\n",
    "google_api_key = 'my api creds' # Hard coding works\n",
    "\n",
    "# os.environ.get('GOOGLE_MAPS_API_KEY') Using this causes problems"
   ]
  },
  {
   "cell_type": "code",
   "execution_count": null,
   "id": "3e97bb9a",
   "metadata": {
    "scrolled": true
   },
   "outputs": [],
   "source": [
    "# Store filepath in a variable\n",
    "police_data = 'resources/data/police_departments.csv'\n",
    "fire_data = 'resources/data/usfa-registry-national.txt'\n",
    "agency_addrs = 'resources/data/27681-0001-Data.txt'\n",
    "co_leads =  'resources/data/co_leads.csv'\n",
    "\n",
    "# Read each of the respective files (police, fire, agency_n, agency_addrs) and store into Pandas dataframe\n",
    "police_data_df = pd.read_csv(police_data)\n",
    "fire_data_df = pd.read_csv(fire_data, delimiter='\\t', encoding='ISO-8859-1')\n",
    "agency_addrs_df = pd.read_csv(agency_addrs, delimiter='\\t', encoding='ISO-8859-1')\n",
    "co_leads_df = pd.read_csv(co_leads)"
   ]
  },
  {
   "cell_type": "code",
   "execution_count": null,
   "id": "ff2c9e3e",
   "metadata": {
    "scrolled": true
   },
   "outputs": [],
   "source": [
    "# Show header for DataFrames\n",
    "display(police_data_df.head(), fire_data_df.head(), agency_addrs_df.head(), co_leads_df.head())\n"
   ]
  },
  {
   "cell_type": "code",
   "execution_count": null,
   "id": "dc50074c",
   "metadata": {
    "scrolled": true
   },
   "outputs": [],
   "source": [
    "# Define dictionaries for renaming columns, and standardize column names that have same data\n",
    "police_rename_dict = {\n",
    "    'name': 'agency_name',\n",
    "    'sworn' : 'sworn_active_persnl',\n",
    "    'type' : 'agency_type'\n",
    "}\n",
    "\n",
    "fire_rename_dict = {\n",
    "    'Fire dept name' : 'agency_name',\n",
    "    'HQ addr1' : 'hq_addr1',\n",
    "    'HQ addr2' : 'hq_addr2',\n",
    "    'HQ city' : 'hq_city',\n",
    "    'HQ state' : 'hq_state',\n",
    "    'HQ zip' : 'hq_zip',\n",
    "    'Mail addr1' : 'addr1',\n",
    "    'Mail addr2' : 'addr2',\n",
    "    'Mail PO box' : 'po_box',\n",
    "    'Mail city' : 'city',\n",
    "    'Mail state' : 'state',\n",
    "    'Mail zip' : 'zip',\n",
    "    'HQ phone' : 'hq_ph',\n",
    "    'HQ fax' : 'hq_fax',\n",
    "    'County' : 'county',\n",
    "    'Dept Type' : 'agency_type',\n",
    "    'Organization Type' : 'org_type',\n",
    "    'Website' : 'website',\n",
    "    'Active Firefighters - Career' : 'sworn_active_persnl'\n",
    "}\n",
    "\n",
    "addrs_rename_dict = {\n",
    "    'AGCYNAME' : 'agency_name',\n",
    "    'ADDR1' : 'addr1', \n",
    "    'ADDR2' : 'addr2',\n",
    "    'CITY' : 'city',\n",
    "    'STATE' : 'state',\n",
    "    'ZIP' : 'zip',\n",
    "    'COUNTY' : 'county'\n",
    "}\n",
    "\n",
    "# Rename columns in police_data_df\n",
    "police_data_df.rename(columns=police_rename_dict, inplace=True)\n",
    "\n",
    "# Rename columns in fire_data_df\n",
    "fire_data_df.rename(columns=fire_rename_dict, inplace=True)\n",
    "\n",
    "# Rename columns in agency_addrs_df\n",
    "agency_addrs_df.rename(columns=addrs_rename_dict, inplace=True)\n",
    "\n",
    "# Verify: Display the first few rows to verify the renaming\n",
    "display(police_data_df.head(), fire_data_df.head(), agency_addrs_df.head())"
   ]
  },
  {
   "cell_type": "code",
   "execution_count": null,
   "id": "5fd5d3ec",
   "metadata": {},
   "outputs": [],
   "source": [
    "# Drop named columns\n",
    "police_data_df = police_data_df.drop(['ftciv', 'ptciv', 'ptsworn'], axis=1)\n",
    "fire_data_df = fire_data_df.drop(['FDID', 'Number Of Stations', 'Active Firefighters - Volunteer', 'Active Firefighters - Paid per Call', 'Non-Firefighting - Civilian', 'Non-Firefighting - Volunteer', 'Primary agency for emergency mgmt'], axis=1)\n",
    "\n",
    "#Save dataframe to a new file\n",
    "police_data_df.to_csv('resources/output/police_data_clean_df.csv', index=False)\n",
    "fire_data_df.to_csv('resources/output/fire_data_clean_df.csv', index=False)\n"
   ]
  },
  {
   "cell_type": "code",
   "execution_count": null,
   "id": "e66557cd",
   "metadata": {},
   "outputs": [],
   "source": [
    "# Select several columns to keep.\n",
    "columns_to_select = ['agency_name', 'addr1', 'addr2']\n",
    "\n",
    "# Select the specified columns\n",
    "agency_addrs_df = agency_addrs_df[columns_to_select]\n",
    "\n",
    "print(agency_addrs_df.head())"
   ]
  },
  {
   "cell_type": "code",
   "execution_count": null,
   "id": "3fa30f64",
   "metadata": {},
   "outputs": [],
   "source": [
    "# For ease of commenting df1 is police_data_df and df2 is agency_addrs_df\n",
    "# Test add column and iterate over rows to plug in missing data.\n",
    "# Step 1: Add df2 columns to df1 with no data (initialize with empty strings)\n",
    "for column in agency_addrs_df.columns:\n",
    "    if column != 'agency_name':  # Avoid adding the common column again\n",
    "        police_data_df[column] = \"\"\n",
    "\n",
    "# For each row in df1, find matching agency_name in in df2  \n",
    "# For each matching row in df2, fill in missing data in df1 columns\n",
    "for index, row in police_data_df.iterrows():\n",
    "\n",
    "    #Find df2 row where agency_name matches current row in df1\n",
    "    matching_row = agency_addrs_df[agency_addrs_df['agency_name'] == row['agency_name']]\n",
    "    \n",
    "    if not matching_row.empty:\n",
    "        # Step 3: Insert corresponding data into df1\n",
    "        for column in agency_addrs_df.columns:\n",
    "            if column != 'agency_name':  # Skip the common column\n",
    "                police_data_df.at[index, column] = matching_row.iloc[0][column]\n",
    "\n",
    "# Display the updated df1\n",
    "print(police_data_df.head())"
   ]
  },
  {
   "cell_type": "code",
   "execution_count": null,
   "id": "f20c5a8a",
   "metadata": {},
   "outputs": [],
   "source": [
    "# Sort DataFrame by agency_name in alphabetical order (A to Z)\n",
    "police_data_sorted = police_data_df.sort_values(by='agency_name', ascending=True)\n",
    "\n",
    "# Display the sorted DataFrame\n",
    "display(police_data_sorted.head())"
   ]
  },
  {
   "cell_type": "code",
   "execution_count": null,
   "id": "c5c48501",
   "metadata": {},
   "outputs": [],
   "source": [
    "# Concatenate the DataFrames vertically\n",
    "merged_df = pd.concat([police_data_df, fire_data_df], ignore_index=True)\n",
    "\n",
    "# Replace NaN values with a blank space if needed\n",
    "merged_df.fillna(\" \", inplace=True)\n",
    "\n",
    "# Display the merged DataFrame\n",
    "print(merged_df.head())\n"
   ]
  },
  {
   "cell_type": "code",
   "execution_count": null,
   "id": "291a7a4d",
   "metadata": {},
   "outputs": [],
   "source": [
    "# List the columns in the desired order\n",
    "new_column_order = [\n",
    "    'agency_name', 'agency_type', 'sworn_active_persnl', 'hq_addr1', 'hq_addr2',\n",
    "    'hq_city', 'hq_state', 'hq_zip', 'addr1', 'addr2', 'po_box', 'city', 'state', \n",
    "    'county', 'zip', 'hq_ph', 'hq_fax', 'org_type', 'website', 'fips'\n",
    "]\n",
    "# Reorder the DataFrame columns\n",
    "merged_df = merged_df[new_column_order]\n",
    "\n",
    "# Display the DataFrame to check the new order\n",
    "print(merged_df.head())"
   ]
  },
  {
   "cell_type": "code",
   "execution_count": null,
   "id": "69795615",
   "metadata": {},
   "outputs": [],
   "source": [
    "#Save merged dataframe to a new file\n",
    "merged_df.to_csv('resources/output/merged_data2.csv', index=False)\n"
   ]
  },
  {
   "cell_type": "markdown",
   "id": "a739a671",
   "metadata": {},
   "source": [
    "## Geocode Colorado Fire Deptartment Addresses\n"
   ]
  },
  {
   "cell_type": "code",
   "execution_count": null,
   "id": "993779e0-ec5e-4318-9171-0fb992cdb1e8",
   "metadata": {},
   "outputs": [],
   "source": [
    "# Debug google maps api\n",
    "print(google_api_key)\n"
   ]
  },
  {
   "cell_type": "code",
   "execution_count": null,
   "id": "228e01cc",
   "metadata": {},
   "outputs": [],
   "source": [
    "# Initialize geolocator. \n",
    "geolocator = GoogleV3(api_key=google_api_key)\n"
   ]
  },
  {
   "cell_type": "code",
   "execution_count": null,
   "id": "3992f169-81ad-4ec9-8f11-e894fb3c83fb",
   "metadata": {},
   "outputs": [],
   "source": [
    "# Function to get latitude and longitude from address\n",
    "def get_lat_long(address):\n",
    "    try:\n",
    "        location = geolocator.geocode(address)\n",
    "        if location:\n",
    "            return location.latitude, location.longitude\n",
    "        else:\n",
    "            return None, None\n",
    "    except Exception as e:\n",
    "        print(f\"Error geocoding {address}: {e}\")\n",
    "        return None, None"
   ]
  },
  {
   "cell_type": "code",
   "execution_count": null,
   "id": "2f34e98e-8aa8-4b6d-ab07-2db215dba368",
   "metadata": {},
   "outputs": [],
   "source": [
    "# Test with a known address\n",
    "location = geolocator.geocode(\"1600 Pennsylvania Ave NW, Washington, DC 20500\")\n",
    "print(location.latitude, location.longitude)"
   ]
  },
  {
   "cell_type": "code",
   "execution_count": null,
   "id": "43b0d583-4b5e-4229-9a76-b2f336ac1015",
   "metadata": {},
   "outputs": [],
   "source": [
    "# Combine address fields and get latitude/longitude\n",
    "co_leads_df['Full_Address'] = co_leads_df['hq_addr1'] + ', ' + co_leads_df['hq_city'] + ', ' + co_leads_df['hq_state'] + ' ' + co_leads_df['hq_zip'].astype(str)\n",
    "co_leads_df['Latitude'], co_leads_df['Longitude'] = zip(*co_leads_df['Full_Address'].apply(get_lat_long))\n",
    "print(co_leads_df.head())"
   ]
  },
  {
   "cell_type": "code",
   "execution_count": null,
   "id": "e47d6c98-0b9a-46f1-aead-ce016f7f4033",
   "metadata": {},
   "outputs": [],
   "source": [
    "# CSI360 location\n",
    "csi360_location = (39.0911, -104.8726)  # Approximate lat/long for 590 Highway 105 Suite # 276, Monument, CO 80132\n",
    "\n",
    "# Function to check if within 30 miles\n",
    "def within_30_miles(row):\n",
    "    try:\n",
    "        department_location = (row['Latitude'], row['Longitude'])\n",
    "        return geodesic(csi360_location, department_location).miles <= 30\n",
    "    except:\n",
    "        return False\n",
    "\n",
    "# Apply the function to filter departments within and outside of 30 miles\n",
    "co_leads_df['Within_30_Miles'] = co_leads_df.apply(within_30_miles, axis=1)\n"
   ]
  },
  {
   "cell_type": "code",
   "execution_count": null,
   "id": "ef08af08-67c9-4d91-98fa-da4c79872ea3",
   "metadata": {},
   "outputs": [],
   "source": [
    "# Separate the dataframes for departments within and outside the 30-mile radius\n",
    "within_30_df = co_leads_df[co_leads_df['Within_30_Miles'] == True]\n",
    "outside_30_df = co_leads_df[co_leads_df['Within_30_Miles'] == False]\n",
    "\n",
    "# Save the filtered dataframes to CSV files\n",
    "within_30_df.to_csv('resources/output/co_fd_within_30_miles.csv', index=False)\n",
    "outside_30_df.to_csv('resources/output/co_fd_outside_30_miles.csv', index=False)"
   ]
  },
  {
   "cell_type": "markdown",
   "id": "4144688f-9aa3-43de-848b-8e3a9d770ffe",
   "metadata": {},
   "source": [
    "## Create Map with Overlays"
   ]
  },
  {
   "cell_type": "code",
   "execution_count": null,
   "id": "7832afbb-6bb3-4f17-84de-3f2667b7e868",
   "metadata": {},
   "outputs": [],
   "source": [
    "# Create base map centered on CSI360 location\n",
    "m = folium.Map(location=csi360_location, zoom_start=10)\n",
    "\n",
    "# Add a circular overlay for within 30 miles\n",
    "folium.Circle(\n",
    "    location=csi360_location,\n",
    "    radius=30*1609.34,  # 30 miles in meters\n",
    "    color='blue',\n",
    "    fill=True,\n",
    "    fill_color='blue',\n",
    "    fill_opacity=0.2,\n",
    "    popup='Within 30 Miles'\n",
    ").add_to(m)\n",
    "\n",
    "# Add fire department markers\n",
    "for _, row in within_30_df.iterrows():\n",
    "    folium.Marker(\n",
    "        location=(row['Latitude'], row['Longitude']),\n",
    "        popup=f\"{row['agency_name']}<br>{row['Full_Address']}\",\n",
    "        icon=folium.Icon(color='blue')\n",
    "    ).add_to(m)\n",
    "\n",
    "for _, row in outside_30_df.iterrows():\n",
    "    folium.Marker(\n",
    "        location=(row['Latitude'], row['Longitude']),\n",
    "        popup=f\"{row['agency_name']}<br>{row['Full_Address']}\",\n",
    "        icon=folium.Icon(color='red')\n",
    "    ).add_to(m)\n",
    "\n",
    "# Add a layer control to toggle overlays\n",
    "folium.LayerControl().add_to(m)\n",
    "\n",
    "# Save the map to an HTML file\n",
    "m.save('resources/output/colorado_fire_departments_map.html')\n"
   ]
  }
 ],
 "metadata": {
  "kernelspec": {
   "display_name": "Python 3 (ipykernel)",
   "language": "python",
   "name": "python3"
  },
  "language_info": {
   "codemirror_mode": {
    "name": "ipython",
    "version": 3
   },
   "file_extension": ".py",
   "mimetype": "text/x-python",
   "name": "python",
   "nbconvert_exporter": "python",
   "pygments_lexer": "ipython3",
   "version": "3.11.9"
  }
 },
 "nbformat": 4,
 "nbformat_minor": 5
}
